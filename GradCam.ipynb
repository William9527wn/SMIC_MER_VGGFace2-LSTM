{
 "cells": [
  {
   "cell_type": "code",
   "execution_count": 1,
   "metadata": {},
   "outputs": [],
   "source": [
    "import torch\n",
    "import glob as gb\n",
    "import numpy as np\n",
    "from PIL import Image\n",
    "from functions_M import *\n",
    "from GradImgPro import *\n",
    "import Vggface2model as model\n",
    "import matplotlib.image as mpimg\n",
    "from torch.autograd import Variable\n",
    "import matplotlib.cm as mpl_color_map\n",
    "# from misc_functions import save_class_activation_images"
   ]
  },
  {
   "cell_type": "code",
   "execution_count": 2,
   "metadata": {},
   "outputs": [],
   "source": [
    "CNN_fc_hidden1, CNN_fc_hidden2 = 1024, 768\n",
    "CNN_embed_dim = 512   # latent dim extracted by 2D CNN\n",
    "res_size = 224        # ResNet image size\n",
    "dropout_p = 0.0       # dropout probability\n",
    "save_model_path = \"./VGG_LSTM/\"\n",
    "img_path = \"input_images/*.bmp\"\n",
    "\n",
    "# Detect devices\n",
    "use_cuda = torch.cuda.is_available()   # check if GPU exists\n",
    "device = torch.device(\"cuda:0\" if torch.cuda.is_available() else \"cpu\")  # use CPU or GPU"
   ]
  },
  {
   "cell_type": "code",
   "execution_count": 3,
   "metadata": {},
   "outputs": [],
   "source": [
    "class CamExtractor():\n",
    "    \"\"\"\n",
    "        Extracts cam features from the model\n",
    "    \"\"\"\n",
    "    def __init__(self, model, target_layer):\n",
    "        self.model = model\n",
    "        self.target_layer = target_layer\n",
    "        self.gradients = None\n",
    "\n",
    "    def save_gradient(self, grad):\n",
    "        self.gradients = grad\n",
    "\n",
    "    def forward_pass(self, x):\n",
    "        \"\"\"\n",
    "            Does a forward pass on convolutions, hooks the function at given layer\n",
    "        \"\"\"\n",
    "        conv_output = None\n",
    "        x = x.to(device)\n",
    "        for l in range (7, 12):\n",
    "            x = self.model.getgradcam(l,x) \n",
    "            if l == self.target_layer:\n",
    "                x.register_hook(self.save_gradient)\n",
    "                conv_output = x  # Save the convolution output on that layer\n",
    "        return conv_output, x"
   ]
  },
  {
   "cell_type": "code",
   "execution_count": 4,
   "metadata": {},
   "outputs": [],
   "source": [
    "class GradCam():\n",
    "    \"\"\"\n",
    "        Produces class activation map\n",
    "    \"\"\"\n",
    "    def __init__(self, model, target_layer):\n",
    "        self.model = model\n",
    "        self.model.eval()\n",
    "        # Define extractor\n",
    "        self.extractor = CamExtractor(self.model, target_layer)\n",
    "\n",
    "    def generate_cam(self, input_image, target_class=None):\n",
    "\n",
    "        conv_output, model_output = self.extractor.forward_pass(input_image) \n",
    "        print(\"model_output:\",model_output.size())\n",
    "        model_output = model_output.reshape(model_output.size()[0], model_output.size()[1])\n",
    "        target_class = np.argmax(model_output.data.cpu().numpy())\n",
    "        # Target for backprop\n",
    "        print(\"Targetclass:\", target_class)\n",
    "        one_hot_output = torch.FloatTensor(1, model_output.size()[1]).zero_().to(device)\n",
    "        one_hot_output[0][target_class] = 1\n",
    "        print(\"one_hot_output:\", one_hot_output.size())\n",
    "        # Zero grads\n",
    "        self.model.zero_grad()\n",
    "        model_output.backward(gradient=one_hot_output, retain_graph=True)\n",
    "        # Get hooked gradients\n",
    "        print(\"gradients:\",self.extractor.gradients.size())\n",
    "        guided_gradients = self.extractor.gradients.data.cpu().numpy()[0]\n",
    "        # Get convolution outputs\n",
    "        target = conv_output.data.cpu().numpy()[0]\n",
    "        # Get weights from gradients\n",
    "        weights = np.mean(guided_gradients, axis=(1, 2))  # Take averages for each gradient\n",
    "        # Create empty numpy array for cam\n",
    "        cam = np.ones(target.shape[1:], dtype=np.float32)\n",
    "        # Multiply each weight with its conv output and then, sum\n",
    "        for i, w in enumerate(weights):\n",
    "            cam += w * target[i, :, :]\n",
    "        cam = np.maximum(cam, 0)\n",
    "        cam = (cam - np.min(cam)) / (np.max(cam) - np.min(cam))  # Normalize between 0-1\n",
    "        cam = np.uint8(cam * 255)  # Scale between 0-255 to visualize\n",
    "        cam = np.uint8(Image.fromarray(cam).resize((input_image.shape[2],\n",
    "                       input_image.shape[3]), Image.ANTIALIAS))/255\n",
    "\n",
    "        return cam\n"
   ]
  },
  {
   "cell_type": "code",
   "execution_count": 18,
   "metadata": {},
   "outputs": [
    {
     "name": "stdout",
     "output_type": "stream",
     "text": [
      "CRNN model reloaded!\n"
     ]
    }
   ],
   "source": [
    "VidData = gb.glob(img_path)[0]\n",
    "original_image = Image.open(VidData).convert('RGB')\n",
    "original_image = original_image.resize((224,224),Image.ANTIALIAS)\n",
    "prep_img = preprocess_image(original_image)\n",
    "cnn_encoder = VggFaceEncoder(fc_hidden1=CNN_fc_hidden1, fc_hidden2=CNN_fc_hidden2, drop_p=dropout_p, \n",
    "                             CNN_embed_dim=CNN_embed_dim).to(device)\n",
    "cnn_encoder.load_state_dict(torch.load(os.path.join(save_model_path, 'cnn_encoder_epoch41.pth')))\n",
    "print('CRNN model reloaded!')\n",
    "target_layer = 7"
   ]
  },
  {
   "cell_type": "code",
   "execution_count": 19,
   "metadata": {
    "scrolled": true
   },
   "outputs": [
    {
     "name": "stdout",
     "output_type": "stream",
     "text": [
      "model_output: torch.Size([1, 2048, 1, 1])\n",
      "Targetclass: 1873\n",
      "one_hot_output: torch.Size([1, 2048])\n",
      "gradients: torch.Size([1, 1024, 14, 14])\n"
     ]
    }
   ],
   "source": [
    "grad_cam = GradCam(cnn_encoder, target_layer)\n",
    "cam = grad_cam.generate_cam(prep_img)\n",
    "save_class_activation_images(original_image, './results/', cam, \"GradCam\"+str(target_layer))"
   ]
  }
 ],
 "metadata": {
  "kernelspec": {
   "display_name": "Python 3",
   "language": "python",
   "name": "python3"
  },
  "language_info": {
   "codemirror_mode": {
    "name": "ipython",
    "version": 3
   },
   "file_extension": ".py",
   "mimetype": "text/x-python",
   "name": "python",
   "nbconvert_exporter": "python",
   "pygments_lexer": "ipython3",
   "version": "3.7.5"
  }
 },
 "nbformat": 4,
 "nbformat_minor": 2
}
